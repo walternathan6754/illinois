{
 "cells": [
  {
   "cell_type": "markdown",
   "metadata": {},
   "source": [
    "## Unit Testing"
   ]
  },
  {
   "cell_type": "markdown",
   "metadata": {
    "collapsed": true
   },
   "source": [
    "Unit testing is the process of breaking a program into small pieces and testing thoroughly each piece.\n",
    "\n",
    "A unit is generally a function or class in a program."
   ]
  },
  {
   "cell_type": "markdown",
   "metadata": {},
   "source": [
    "Why should we do unit testing?\n",
    "* verification and validation of code\n",
    "* prevent bugs from being introduced by yourself or others\n",
    "* personal sanity (prevents computational hubris)\n",
    "* it's super duper easy to do but probably saves hours of headache\n",
    "* lets you add cool things to your projects repo\n",
    "<img src=\"https://raw.githubusercontent.com/dwyl/repo-badges/master/highresPNGs/build-passing.png\" width=\"150\">"
   ]
  },
  {
   "cell_type": "markdown",
   "metadata": {},
   "source": [
    "Two schools of thought. Create unit tests before writing code (test driven developement) or create unit tests after writing code to make sure it works correctly.\n",
    "\n",
    "Unit tests are run periodically, generally after changes to code base, to make sure changes haven't introduced new bugs"
   ]
  },
  {
   "cell_type": "markdown",
   "metadata": {},
   "source": [
    "For python, like most languages, there are several frameworks for building unit tests. \n",
    "\n",
    "* [Unittest](https://docs.python.org/2/library/unittest.html)\n",
    "* [Nosetests](http://nose.readthedocs.io/en/latest/)\n",
    "* [pytest](https://docs.pytest.org/en/latest/)"
   ]
  },
  {
   "cell_type": "markdown",
   "metadata": {},
   "source": [
    "\n",
    "Paul has briefly discussed nosetests before at hacker (https://github.com/walternathan6754/illinois/blob/master/sphinx/sphinx.pdf)"
   ]
  },
  {
   "cell_type": "markdown",
   "metadata": {},
   "source": [
    "Unit tests are generally functions that test the output or performance of other functions or modules. This is often checked with assert statements that are evaluated."
   ]
  },
  {
   "cell_type": "markdown",
   "metadata": {},
   "source": [
    "## Pytest"
   ]
  },
  {
   "cell_type": "markdown",
   "metadata": {},
   "source": [
    "As a simple example, we will start with a function to divide two numbers (don't ask why we need this function to be made, we just do!)"
   ]
  },
  {
   "cell_type": "markdown",
   "metadata": {},
   "source": [
    "```python\n",
    "def divide(numerator, denominator):\n",
    "    \"\"\" function to perform division of two numbers. This should not perform\n",
    "        integer division\n",
    "        \n",
    "        Raises:\n",
    "            ZeroDivisionError: raised if denominator is zero\n",
    "    \"\"\"\n",
    "    return numerator/denominator\n",
    "```"
   ]
  },
  {
   "cell_type": "markdown",
   "metadata": {},
   "source": [
    "As the doc string explains, the function should not perform integer division, and should raise a ZeroDivisionError if the denominator is zero.\n",
    "\n",
    "Then, we could build a test function to test division of two ints"
   ]
  },
  {
   "cell_type": "markdown",
   "metadata": {},
   "source": [
    "```python\n",
    "def test_divide_ints():\n",
    "    \"\"\"test division of two integers 4 and 2\"\"\"\n",
    "    assert divide(4,2) == 2\n",
    "```"
   ]
  },
  {
   "cell_type": "markdown",
   "metadata": {},
   "source": [
    "These two functions are in the file simple_example.py. To perform execute the test function, in terminal perform"
   ]
  },
  {
   "cell_type": "markdown",
   "metadata": {},
   "source": [
    "```bash\n",
    "$ py.test -v simple_example.py\n",
    "$ python -m pytest -v simple_example.py\n",
    "```"
   ]
  },
  {
   "cell_type": "markdown",
   "metadata": {},
   "source": [
    "```bash\n",
    "====================================================== test session starts =======================================================\n",
    "platform darwin -- Python 2.7.11, pytest-2.8.1, py-1.4.30, pluggy-0.3.1 -- /Users/Nathan/anaconda/bin/python\n",
    "cachedir: .cache\n",
    "rootdir: /Users/Nathan/Documents/illinois/unit_testing, inifile: \n",
    "collected 1 items \n",
    "\n",
    "simple_example.py::test_divide_ints PASSED\n",
    "\n",
    "==================================================== 1 passed in 0.00 seconds ====================================================\n",
    "```"
   ]
  },
  {
   "cell_type": "markdown",
   "metadata": {},
   "source": [
    "Either of those lines works for executing pytest on the included file. If no file is included, pytest will run on all files titled test_* in the current directory and all of the sub directories. It is worth noting that py.test could also be replaced with nosetests (a different unittesting module for python) and these codes will still work!\n",
    "\n",
    "Pytest will run on all functions named test_* in the files"
   ]
  },
  {
   "cell_type": "markdown",
   "metadata": {},
   "source": [
    "### Seperating Tests"
   ]
  },
  {
   "cell_type": "markdown",
   "metadata": {},
   "source": [
    "For this simple case, it is okay to include both the function and the test in the same file. However, for a larger project this is less viable. Thus, the functions and the tests can be seperated "
   ]
  },
  {
   "cell_type": "markdown",
   "metadata": {},
   "source": [
    "```bash\n",
    "project\\\n",
    "    src\\\n",
    "        __init__.py\n",
    "        divide.py\n",
    "    test\\\n",
    "        test_divide.py\n",
    "```"
   ]
  },
  {
   "cell_type": "markdown",
   "metadata": {},
   "source": [
    "The __init__.py file is important in the src folder because this allows python to import the files to the test files.\n",
    "\n",
    "Also, it is important to add the project directory to the PYTHONPATH."
   ]
  },
  {
   "cell_type": "markdown",
   "metadata": {},
   "source": [
    "```bash\n",
    "$ export PYTHONPATH=$PYTHONPATH;\\path_to_project\\\n",
    "```"
   ]
  },
  {
   "cell_type": "markdown",
   "metadata": {},
   "source": [
    "Now we can build many more tests into the test\\test_divide.py file"
   ]
  },
  {
   "cell_type": "markdown",
   "metadata": {},
   "source": [
    "```python\n",
    "from divide import divide\n",
    "\n",
    "import pytest\n",
    "\n",
    "def test_divide_ints():\n",
    "    assert divide(4,2) == 2\n",
    "\n",
    "def test_divide_floats():\n",
    "    assert divide(5.0, 2.0) == 2.5\n",
    "\n",
    "def test_zero_division():\n",
    "    with pytest.raises(ZeroDivisionError) as e_info:\n",
    "        divide(4.0,0.0)\n",
    "```"
   ]
  },
  {
   "cell_type": "markdown",
   "metadata": {},
   "source": [
    "This includes three tests. One to check division of intergers, one to test division of floats, and one to check that an exception is raised when zero is provided as a denominator."
   ]
  },
  {
   "cell_type": "markdown",
   "metadata": {},
   "source": [
    "```bash\n",
    "$ py.test -v test/test_divide.py\n",
    "\n",
    "Nathans-iMac:unit_testing Nathan$ py.test -v test/test_divide.py \n",
    "====================================================== test session starts =======================================================\n",
    "platform darwin -- Python 2.7.11, pytest-2.8.1, py-1.4.30, pluggy-0.3.1 -- /Users/Nathan/anaconda/bin/python\n",
    "cachedir: test/.cache\n",
    "rootdir: /Users/Nathan/Documents/illinois/unit_testing/test, inifile: \n",
    "collected 3 items \n",
    "\n",
    "test/test_divide.py::test_divide_ints PASSED\n",
    "test/test_divide.py::test_divide_floats PASSED\n",
    "test/test_divide.py::test_zero_division PASSED\n",
    "\n",
    "==================================================== 3 passed in 0.01 seconds ====================================================\n",
    "```"
   ]
  },
  {
   "cell_type": "markdown",
   "metadata": {},
   "source": [
    "However, you may notice that this does not check that integer division is not performed. And in fact, our divide function actually does perform integer division (I am running python 2).\n",
    "\n",
    "Maybe, someone notices this and decides to fix this. And maybe, they really really really love numpy, so the fix they make is"
   ]
  },
  {
   "cell_type": "markdown",
   "metadata": {},
   "source": [
    "```python\n",
    "import numpy\n",
    "\n",
    "def divide(numerator, denomator):\n",
    "    \"\"\" function to perform division of two numbers. This should not perform\n",
    "        integer division\n",
    "        \n",
    "        Raises:\n",
    "        ZeroDivisionError: raised if denominator is zero\n",
    "    \"\"\"\n",
    "    return numpy.float64(numerator)/numpy.float64(denomator)\n",
    "```"
   ]
  },
  {
   "cell_type": "markdown",
   "metadata": {},
   "source": [
    "It's not the worst fix ever. It corrects the integer division. However, it does break the test for zero division"
   ]
  },
  {
   "cell_type": "markdown",
   "metadata": {},
   "source": [
    "```bash\n",
    "$ py.test -v test/test_divide_numpy.py\n",
    "\n",
    "====================================================== test session starts =======================================================\n",
    "platform darwin -- Python 2.7.11, pytest-2.8.1, py-1.4.30, pluggy-0.3.1 -- /Users/Nathan/anaconda/bin/python\n",
    "cachedir: test/.cache\n",
    "rootdir: /Users/Nathan/Documents/illinois/unit_testing/test, inifile: \n",
    "collected 3 items \n",
    "\n",
    "test/test_divide_numpy.py::test_divide_numpy_ints PASSED\n",
    "test/test_divide_numpy.py::test_divide_floats PASSED\n",
    "test/test_divide_numpy.py::test_zero_division FAILED\n",
    "\n",
    "============================================================ FAILURES ============================================================\n",
    "_______________________________________________________ test_zero_division _______________________________________________________\n",
    "\n",
    "    def test_zero_division():\n",
    "        with pytest.raises(ZeroDivisionError) as e_info:\n",
    ">           divide(4.0,0.0)\n",
    "E           Failed: DID NOT RAISE\n",
    "\n",
    "test/test_divide_numpy.py:13: Failed\n",
    "------------------------------------------------------ Captured stderr call ------------------------------------------------------\n",
    "/Users/Nathan/Documents/illinois/unit_testing/src/divide_numpy.py:10: RuntimeWarning: divide by zero encountered in double_scalars\n",
    "  return numpy.float64(numerator)/numpy.float64(denomator)\n",
    "=============================================== 1 failed, 2 passed in 0.15 seconds ===============================================\n",
    "```"
   ]
  },
  {
   "cell_type": "markdown",
   "metadata": {},
   "source": [
    "So you can see the function did not raise the zero division error. Interesting thing about numpy.float64 variables, they can be divided by zero and produce NaN instead of an error.\n",
    "\n",
    "Our unit tests allowed us to know immediately that our new code broke other functioning protions of our code (which can be very costly to commit if it is a large project)"
   ]
  },
  {
   "cell_type": "markdown",
   "metadata": {},
   "source": [
    "### Verbosity in Pytest"
   ]
  },
  {
   "cell_type": "markdown",
   "metadata": {},
   "source": [
    "These examples are in test/test_verbose_fails.py"
   ]
  },
  {
   "cell_type": "markdown",
   "metadata": {},
   "source": [
    "If you are making tests, it might be very useful to include messages with your assertions when they fail."
   ]
  },
  {
   "cell_type": "markdown",
   "metadata": {},
   "source": [
    "```python\n",
    "from divide import divide\n",
    "\n",
    "import numpy\n",
    "\n",
    "def test_integer_division():\n",
    "    assert divide(1,2) != 0, \"performed integer division\"\n",
    "```"
   ]
  },
  {
   "cell_type": "markdown",
   "metadata": {},
   "source": [
    "In this case, when integer division is performed, the assertion will tell us why this is an issue"
   ]
  },
  {
   "cell_type": "markdown",
   "metadata": {},
   "source": [
    "```bash\n",
    "============================================================ FAILURES ============================================================\n",
    "_____________________________________________________ test_integer_division ______________________________________________________\n",
    "\n",
    "    def test_integer_division():\n",
    ">       assert divide(1,2) != 0, \"performed integer division\"\n",
    "E       AssertionError: performed integer division\n",
    "E       assert 0 != 0\n",
    "E        +  where 0 = divide(1, 2)\n",
    "\n",
    "test/test_verbose_fails.py:6: AssertionError\n",
    "```"
   ]
  },
  {
   "cell_type": "markdown",
   "metadata": {},
   "source": [
    "Notice there is two addition bits of verbose information. Our message of \"performed integer division\" and pytest telling us that divide(1,2) = 0, which I thought was cool"
   ]
  },
  {
   "cell_type": "markdown",
   "metadata": {},
   "source": [
    "When performing a test that tests dictionaries and lists, pytest will print the exact difference between the two objects"
   ]
  },
  {
   "cell_type": "markdown",
   "metadata": {},
   "source": [
    "```python\n",
    "def test_lists():\n",
    "    left_list  = [1,2,3,4]\n",
    "    right_list = [2,2,3,4]\n",
    "    assert left_list == right_list\n",
    "\n",
    "def test_dictionaries():\n",
    "    left_dic  = {'item1': 1, 'item2':2, 'item3':3}\n",
    "    right_dic = {'item1': 2, 'item2':2, 'item4':3}\n",
    "    assert left_dic == right_dic\n",
    "\n",
    "def test_numpy_arrays():\n",
    "    left_array  = numpy.array([1,2,3,4])\n",
    "    right_array = numpy.array([2,2,3,4])\n",
    "    assert numpy.array_equal(left_array, right_array) == True\n",
    "```"
   ]
  },
  {
   "cell_type": "markdown",
   "metadata": {},
   "source": [
    "```bash\n",
    "$ py.test -v test\\test_verbose_fails.py\n",
    "\n",
    "___________________________________________________________ test_lists ___________________________________________________________\n",
    "\n",
    "    def test_lists():\n",
    "        left_list  = [1,2,3,4]\n",
    "        right_list = [2,2,3,4]\n",
    ">       assert left_list == right_list\n",
    "E       assert [1, 2, 3, 4] == [2, 2, 3, 4]\n",
    "E         At index 0 diff: 1 != 2\n",
    "E         Full diff:\n",
    "E         - [1, 2, 3, 4]\n",
    "E         ?  ---\n",
    "E         + [2, 2, 3, 4]\n",
    "E         ?     +++\n",
    "\n",
    "test/test_verbose_fails.py:11: AssertionError\n",
    "_______________________________________________________ test_dictionaries ________________________________________________________\n",
    "\n",
    "    def test_dictionaries():\n",
    "        left_dic  = {'item1': 1, 'item2':2, 'item3':3}\n",
    "        right_dic = {'item1': 2, 'item2':2, 'item4':3}\n",
    ">       assert left_dic == right_dic\n",
    "E       assert {'item1': 1, ...2, 'item3': 3} == {'item1': 2, '...2, 'item4': 3}\n",
    "E         Common items:\n",
    "E         {'item2': 2}\n",
    "E         Differing items:\n",
    "E         {'item1': 1} != {'item1': 2}\n",
    "E         Left contains more items:\n",
    "E         {'item3': 3}\n",
    "E         Right contains more items:\n",
    "E         {'item4': 3}\n",
    "E         Full diff:\n",
    "E         - {'item1': 1, 'item2': 2, 'item3': 3}\n",
    "E         ?           ^                   ^\n",
    "E         + {'item1': 2, 'item2': 2, 'item4': 3}\n",
    "E         ?           ^                   ^\n",
    "\n",
    "test/test_verbose_fails.py:16: AssertionError\n",
    "_______________________________________________________ test_numpy_arrays ________________________________________________________\n",
    "\n",
    "    def test_numpy_arrays():\n",
    "        left_array  = numpy.array([1,2,3,4])\n",
    "        right_array = numpy.array([2,2,3,4])\n",
    ">       assert numpy.array_equal(left_array, right_array) == True\n",
    "E       assert <function array_equal at 0x103c972a8>(array([1, 2, 3, 4]), array([2, 2, 3, 4])) == True\n",
    "E        +  where <function array_equal at 0x103c972a8> = numpy.array_equal\n",
    "```"
   ]
  },
  {
   "cell_type": "markdown",
   "metadata": {},
   "source": [
    "Notice that pytest prints the common items, the differing items, and what items are only in the left container and the right container. \n",
    "\n",
    "Sadly, this doesn't work on numpy arrays though :("
   ]
  },
  {
   "cell_type": "markdown",
   "metadata": {},
   "source": [
    "### Setup and Teardown"
   ]
  },
  {
   "cell_type": "markdown",
   "metadata": {},
   "source": [
    "The previous examples are all very simple. Most likely, in a real setting, the functions created will rely on a certain state of the program.\n",
    "\n",
    "To setup a certain state before a test function is performed, pytest can run functions with the name\n",
    "```python\n",
    "def setup_module(module):\n",
    "```\n",
    "or \n",
    "```python\n",
    "def setup_function(function):\n",
    "```\n",
    "\n",
    "and the state can be destroyed with \n",
    "```python\n",
    "def teardown_module(module):\n",
    "```\n",
    "or \n",
    "```python\n",
    "def teardown_function(function):\n",
    "```"
   ]
  },
  {
   "cell_type": "markdown",
   "metadata": {},
   "source": [
    "As an example, I will make a simplier version of how I used this in a project.\n",
    "\n",
    "Imagine a package that simulates power cycles. At some point in the code, the thermal efficiency needs to be calculated from various properties of the cycle components. In order to not have to run the code until the point where the efficiency needs to be computed (which could be hours), setup functions could set the state of the code to be able to test the function. \n",
    "\n",
    "This example is in src\\power_efficiency.py"
   ]
  },
  {
   "cell_type": "markdown",
   "metadata": {},
   "source": [
    "```python\n",
    "\"\"\"module that computes the power efficiency of a cycle\"\"\"\n",
    "\n",
    "input_power = 0\n",
    "output_power = 0\n",
    "\n",
    "def compute_efficiency():\n",
    "    \"\"\"Computes the power efficiency of a thermal cycle\n",
    "    Raises:\n",
    "        ValueError: if power is negative\n",
    "    \"\"\"\n",
    "    if output_power < 0:\n",
    "        raise ValueError\n",
    "    \n",
    "    return output_power/input_power\n",
    "```"
   ]
  },
  {
   "cell_type": "markdown",
   "metadata": {},
   "source": [
    "The code computes the efficiency of the cycle from the input and output power, which would be set elsewhere in the program.\n",
    "\n",
    "Obviously, without some setup, testing the compute_efficiency function would always result in a ValueError.\n",
    "\n",
    "So, using the setup_module we can set the state before testing the function"
   ]
  },
  {
   "cell_type": "markdown",
   "metadata": {},
   "source": [
    "```python\n",
    "import power_efficiency as pe\n",
    "\n",
    "def setup_module(module):\n",
    "    print \"\"\n",
    "    print \"module setup\"\n",
    "    pe.input_power = 100. # kJ\n",
    "    pe.output_power = 30. # kJ\n",
    "\n",
    "def teardown_module(module):\n",
    "    print \"\"\n",
    "    print \"module teardown\"\n",
    "    pe.input_power = 0. # kJ\n",
    "    pe.output_power = 0. # kJ\n",
    "\n",
    "def test_input_power():\n",
    "    print \"test input power\"\n",
    "    assert pe.input_power == 100.\n",
    "\n",
    "def test_compute_efficiency():\n",
    "    print \"\\ntest efficiency\"\n",
    "    assert pe.compute_efficiency() == 0.3 # it's not very efficient\n",
    "```"
   ]
  },
  {
   "cell_type": "markdown",
   "metadata": {},
   "source": [
    "I added prints to the functions so that when the tests are run, we can see the order of the functions called."
   ]
  },
  {
   "cell_type": "markdown",
   "metadata": {},
   "source": [
    "```bash\n",
    "$ py.test -v -s test/test_compute_efficiency.py\n",
    "\n",
    "====================================================== test session starts =======================================================\n",
    "platform darwin -- Python 2.7.11, pytest-2.8.1, py-1.4.30, pluggy-0.3.1 -- /Users/Nathan/anaconda/bin/python\n",
    "cachedir: test/.cache\n",
    "rootdir: /Users/Nathan/Documents/illinois/unit_testing/test, inifile: \n",
    "collected 2 items \n",
    "\n",
    "test/test_compute_efficiency.py::test_input_power PASSED\n",
    "test/test_compute_efficiency.py::test_compute_efficiency PASSED\n",
    "\n",
    "==================================================== 2 passed in 0.01 seconds ====================================================\n",
    "Nathans-iMac:unit_testing Nathan$ py.test -v -s test/test_compute_efficiency.py \n",
    "====================================================== test session starts =======================================================\n",
    "platform darwin -- Python 2.7.11, pytest-2.8.1, py-1.4.30, pluggy-0.3.1 -- /Users/Nathan/anaconda/bin/python\n",
    "cachedir: test/.cache\n",
    "rootdir: /Users/Nathan/Documents/illinois/unit_testing/test, inifile: \n",
    "collected 2 items \n",
    "\n",
    "test/test_compute_efficiency.py::test_input_power \n",
    "module setup\n",
    "test input power\n",
    "PASSED\n",
    "test/test_compute_efficiency.py::test_compute_efficiency \n",
    "test efficiency\n",
    "PASSED\n",
    "module teardown\n",
    "\n",
    "\n",
    "==================================================== 2 passed in 0.01 seconds ====================================================\n",
    "```"
   ]
  },
  {
   "cell_type": "markdown",
   "metadata": {},
   "source": [
    "The -s collects the prints and orders them on screen. From the output, you can see that the module setup is called once, then the two tests functions are called and passed. Then the module teardown is called. \n",
    "\n",
    "These functions can also be very useful if data needs to be read into a program. The setup can read the data from file and then the test functions can be performed. \n",
    "\n",
    "The difference between module and function setups, is function setups are called before every test function and module setups are called once.\n",
    "\n",
    "Then I use the teardown function to undo the changes done by the setup function."
   ]
  },
  {
   "cell_type": "markdown",
   "metadata": {},
   "source": [
    "### pytest fixtures"
   ]
  },
  {
   "cell_type": "markdown",
   "metadata": {},
   "source": [
    "Another method of setting up a state of a program before performing tests is pytest fixtures.\n",
    "\n"
   ]
  },
  {
   "cell_type": "markdown",
   "metadata": {},
   "source": [
    "```python\n",
    "import power_efficiency as pe\n",
    "import pytest\n",
    "\n",
    "@pytest.fixture\n",
    "def set_power():\n",
    "    print \"\\nset the power\"\n",
    "    pe.input_power = 100. # kJ\n",
    "    pe.output_power = 30. # kJ\n",
    "\n",
    "@pytest.fixture\n",
    "def set_negative_power():\n",
    "    print \"\\nset negative output power\"\n",
    "    pe.input_power = 100. # kJ\n",
    "    pe.output_power = -30. # kJ\n",
    "\n",
    "def test_input_power(set_power):\n",
    "    print \"test input power\"\n",
    "    assert pe.input_power == 100.\n",
    "\n",
    "def test_compute_efficiency(set_power):\n",
    "    print \"test efficiency with setup\"\n",
    "    assert pe.compute_efficiency() == 0.3 # it's not very efficient\n",
    "\n",
    "def test_negative_power(set_negative_power):\n",
    "    print \"test efficiency with negative power\"\n",
    "    with pytest.raises(ValueError) as e_info:\n",
    "        pe.compute_efficiency()\n",
    "```"
   ]
  },
  {
   "cell_type": "markdown",
   "metadata": {},
   "source": [
    "To use fixtures, pytest needs to be imported.\n",
    "\n",
    "Then before setup functions, a @pytest.fixture is placed.\n",
    "\n",
    "This allows for multiple setups to be created. Then the test function takes these fixtures as inputs."
   ]
  },
  {
   "cell_type": "markdown",
   "metadata": {},
   "source": [
    "```bash\n",
    "$ py.test -v -s test/test_pytest_fixtures.py\n",
    "\n",
    "====================================================== test session starts =======================================================\n",
    "platform darwin -- Python 2.7.11, pytest-2.8.1, py-1.4.30, pluggy-0.3.1 -- /Users/Nathan/anaconda/bin/python\n",
    "cachedir: test/.cache\n",
    "rootdir: /Users/Nathan/Documents/illinois/unit_testing/test, inifile: \n",
    "collected 3 items \n",
    "\n",
    "test/test_pytest_fixtures.py::test_input_power \n",
    "set the power\n",
    "test input power\n",
    "PASSED\n",
    "test/test_pytest_fixtures.py::test_compute_efficiency \n",
    "set the power\n",
    "test efficiency with setup\n",
    "PASSED\n",
    "test/test_pytest_fixtures.py::test_negative_power \n",
    "set negative output power\n",
    "test efficiency with negative power\n",
    "PASSED\n",
    "\n",
    "==================================================== 3 passed in 0.02 seconds ====================================================\n",
    "```"
   ]
  },
  {
   "cell_type": "markdown",
   "metadata": {},
   "source": [
    "So depending on the if the test took set_power or set_negative_power as an input, the state of the module was different. This allows for testing with different states."
   ]
  },
  {
   "cell_type": "markdown",
   "metadata": {},
   "source": [
    "For more on how to start unit testing I recommend downloading any open package and look through their testing codes. Online examples I have found have all been far too simple."
   ]
  },
  {
   "cell_type": "markdown",
   "metadata": {
    "collapsed": true
   },
   "source": [
    "# Testing in Jupyter Notebooks"
   ]
  },
  {
   "cell_type": "markdown",
   "metadata": {},
   "source": [
    "Until now, all testing has been with py.test, which is great in terminal, but not so great for notebooks. \n",
    "\n",
    "Since a lot of people use jupyter notebooks, I thought I would show quickly how to do testing in one.\n",
    "\n",
    "We will use a package called unittest instead of py.test"
   ]
  },
  {
   "cell_type": "code",
   "execution_count": 1,
   "metadata": {
    "collapsed": true
   },
   "outputs": [],
   "source": [
    "def divide(numerator, denominator):\n",
    "    \"\"\" function to perform division of two numbers. This should not perform\n",
    "        integer division\n",
    "\n",
    "        Raises:\n",
    "            ZeroDivisionError: raised if denominator is zero\n",
    "    \"\"\"\n",
    "    return numerator/denominator"
   ]
  },
  {
   "cell_type": "markdown",
   "metadata": {},
   "source": [
    "So we have the same divide function as before. To make a test we could make a cell with a test function"
   ]
  },
  {
   "cell_type": "code",
   "execution_count": 8,
   "metadata": {
    "collapsed": false
   },
   "outputs": [
    {
     "name": "stderr",
     "output_type": "stream",
     "text": [
      "test_divide_floats (__main__.TestDivideFunction) ... ok\n",
      "test_divide_interger (__main__.TestDivideFunction) ... ok\n",
      "test_divide_zero (__main__.TestDivideFunction)\n",
      "assertRaises(exception, function, args***) ... ok\n",
      "\n",
      "----------------------------------------------------------------------\n",
      "Ran 3 tests in 0.002s\n",
      "\n",
      "OK\n"
     ]
    },
    {
     "data": {
      "text/plain": [
       "<unittest.main.TestProgram at 0x1046483d0>"
      ]
     },
     "execution_count": 8,
     "metadata": {},
     "output_type": "execute_result"
    }
   ],
   "source": [
    "import unittest\n",
    "\n",
    "class TestDivideFunction(unittest.TestCase):\n",
    "\n",
    "    def test_divide_interger(self):\n",
    "        self.assertEqual(divide(4, 2), 2)\n",
    "        \n",
    "    def test_divide_floats(self):\n",
    "        self.assertEqual(divide(5.0, 2.0), 2.5)\n",
    "        \n",
    "    def test_divide_zero(self):\n",
    "        \"\"\"assertRaises(exception, function, args***)\"\"\"\n",
    "        self.assertRaises(ZeroDivisionError, divide, 2.0, 0.0)\n",
    "\n",
    "unittest.main(argv=[''], verbosity=2, exit=False)"
   ]
  },
  {
   "cell_type": "markdown",
   "metadata": {},
   "source": [
    "You can see that unittest is quite different from py.test. Py.test uses just functions in a file. Unittest requires creation of a class of type unittest.TestCase. Then you run unittest.main to test all functions in the class that begin with test_.\n",
    "\n",
    "But this would be a way to test in a notebook that doesn't require calls to terminal (as would be needed with py.test) or unique packages (I found some on github for nosetest, but unittest is standard with python)"
   ]
  },
  {
   "cell_type": "code",
   "execution_count": 7,
   "metadata": {
    "collapsed": false
   },
   "outputs": [
    {
     "name": "stderr",
     "output_type": "stream",
     "text": [
      "test_fail (__main__.TestDivideFunction)\n",
      "Just to show what a failed test looks like ... FAIL\n",
      "\n",
      "======================================================================\n",
      "FAIL: test_fail (__main__.TestDivideFunction)\n",
      "Just to show what a failed test looks like\n",
      "----------------------------------------------------------------------\n",
      "Traceback (most recent call last):\n",
      "  File \"<ipython-input-7-e881563f736b>\", line 6, in test_fail\n",
      "    self.assertEqual(2,3)\n",
      "AssertionError: 2 != 3\n",
      "\n",
      "----------------------------------------------------------------------\n",
      "Ran 1 test in 0.001s\n",
      "\n",
      "FAILED (failures=1)\n"
     ]
    },
    {
     "data": {
      "text/plain": [
       "<unittest.main.TestProgram at 0x1045dcad0>"
      ]
     },
     "execution_count": 7,
     "metadata": {},
     "output_type": "execute_result"
    }
   ],
   "source": [
    "import unittest\n",
    "\n",
    "class TestDivideFunction(unittest.TestCase):        \n",
    "    def test_fail(self):\n",
    "        \"\"\"Just to show what a failed test looks like\"\"\"\n",
    "        self.assertEqual(2,3)\n",
    "        \n",
    "unittest.main(argv=[''], verbosity=2, exit=False)"
   ]
  },
  {
   "cell_type": "code",
   "execution_count": null,
   "metadata": {
    "collapsed": true
   },
   "outputs": [],
   "source": []
  }
 ],
 "metadata": {
  "kernelspec": {
   "display_name": "Python 2",
   "language": "python",
   "name": "python2"
  },
  "language_info": {
   "codemirror_mode": {
    "name": "ipython",
    "version": 2
   },
   "file_extension": ".py",
   "mimetype": "text/x-python",
   "name": "python",
   "nbconvert_exporter": "python",
   "pygments_lexer": "ipython2",
   "version": "2.7.11"
  }
 },
 "nbformat": 4,
 "nbformat_minor": 0
}
